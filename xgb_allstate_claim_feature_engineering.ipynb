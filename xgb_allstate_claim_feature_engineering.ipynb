{
 "cells": [
  {
   "cell_type": "code",
   "execution_count": 7,
   "metadata": {
    "collapsed": false
   },
   "outputs": [],
   "source": [
    "import numpy as np\n",
    "import pandas as pd\n",
    "\n",
    "import matplotlib.pyplot as plt\n",
    "\n",
    "\n",
    "from __future__ import print_function, division\n",
    "import sklearn\n",
    "\n",
    "from __future__ import print_function, division\n",
    "import sklearn\n",
    "import utils\n",
    "import skutils\n",
    "\n",
    "# Use ggplot style\n",
    "plt.style.use('ggplot')\n",
    "\n",
    "%matplotlib inline"
   ]
  },
  {
   "cell_type": "code",
   "execution_count": 8,
   "metadata": {
    "collapsed": true
   },
   "outputs": [],
   "source": [
    "train_data = pd.read_csv('data/train.csv')"
   ]
  },
  {
   "cell_type": "code",
   "execution_count": 9,
   "metadata": {
    "collapsed": false
   },
   "outputs": [
    {
     "data": {
      "text/html": [
       "<h1>General</h1>"
      ],
      "text/plain": [
       "<IPython.core.display.HTML object>"
      ]
     },
     "metadata": {},
     "output_type": "display_data"
    },
    {
     "data": {
      "text/html": [
       "<table><thead><tr><th>property</th><th>values</th></tr></thead><tbody><tr><td>Number of features</td><td>132</td></tr><tr><td>Number of categorical features</td><td>116</td></tr><tr><td>Number of numerical features</td><td>16</td></tr><tr><td>Number of Samples</td><td>188318</td></tr></tbody></table>"
      ],
      "text/plain": [
       "<IPython.core.display.HTML object>"
      ]
     },
     "metadata": {},
     "output_type": "display_data"
    },
    {
     "data": {
      "text/html": [
       "<h1>Distribution of Numerical Values</h1>"
      ],
      "text/plain": [
       "<IPython.core.display.HTML object>"
      ]
     },
     "metadata": {},
     "output_type": "display_data"
    },
    {
     "data": {
      "text/html": [
       "<table><thead><tr><th>feature</th><th>Unique</th><th>NaN</th><th>min</th><th>min count</th><th>mean</th><th>max</th><th>max count</th></tr></thead><tbody><tr><td>id</td><td>188318</td><td>0</td><td>1.0</td><td>1</td><td>294135.982561</td><td>587633.0</td><td>1</td></tr><tr><td>cont1</td><td>647</td><td>0</td><td>1.6e-05</td><td>225</td><td>0.493861364564</td><td>0.984975</td><td>2</td></tr><tr><td>cont2</td><td>33</td><td>0</td><td>0.001149</td><td>2</td><td>0.50718835618</td><td>0.862654</td><td>176</td></tr><tr><td>cont3</td><td>76</td><td>0</td><td>0.002634</td><td>83</td><td>0.498918450721</td><td>0.944251</td><td>4656</td></tr><tr><td>cont4</td><td>112</td><td>0</td><td>0.176921</td><td>1119</td><td>0.491812302589</td><td>0.954297</td><td>1</td></tr><tr><td>cont5</td><td>141</td><td>0</td><td>0.281143</td><td>51926</td><td>0.487427728783</td><td>0.983674</td><td>2</td></tr><tr><td>cont6</td><td>2573</td><td>0</td><td>0.012683</td><td>216</td><td>0.490944533736</td><td>0.997162</td><td>6</td></tr><tr><td>cont7</td><td>5632</td><td>0</td><td>0.069503</td><td>303</td><td>0.484970205068</td><td>1.0</td><td>30</td></tr><tr><td>cont8</td><td>201</td><td>0</td><td>0.23688</td><td>1020</td><td>0.48643731587</td><td>0.9802</td><td>264</td></tr><tr><td>cont9</td><td>347</td><td>0</td><td>8e-05</td><td>174</td><td>0.485506319895</td><td>0.9954</td><td>1</td></tr><tr><td>cont10</td><td>174</td><td>0</td><td>0.0</td><td>225</td><td>0.498065850423</td><td>0.99498</td><td>3</td></tr><tr><td>cont11</td><td>326</td><td>0</td><td>0.035321</td><td>63</td><td>0.493511008555</td><td>0.998742</td><td>2</td></tr><tr><td>cont12</td><td>328</td><td>0</td><td>0.036232</td><td>63</td><td>0.493150425626</td><td>0.998484</td><td>2</td></tr><tr><td>cont13</td><td>353</td><td>0</td><td>0.000228</td><td>225</td><td>0.493137615836</td><td>0.988494</td><td>5</td></tr><tr><td>cont14</td><td>18740</td><td>0</td><td>0.179722</td><td>1</td><td>0.495717017975</td><td>0.844848</td><td>1</td></tr><tr><td>loss</td><td>158223</td><td>0</td><td>0.67</td><td>1</td><td>3037.33768567</td><td>121012.25</td><td>1</td></tr></tbody></table>"
      ],
      "text/plain": [
       "<IPython.core.display.HTML object>"
      ]
     },
     "metadata": {},
     "output_type": "display_data"
    },
    {
     "data": {
      "text/html": [
       "<h1>Distribution of Categorical Features</h1>"
      ],
      "text/plain": [
       "<IPython.core.display.HTML object>"
      ]
     },
     "metadata": {},
     "output_type": "display_data"
    },
    {
     "data": {
      "text/html": [
       "<table><thead><tr><th>feature</th><th>Num Categories</th><th>Categories</th><th>NaN</th></tr></thead><tbody><tr><td>cat1</td><td>2</td><td>['A', 'B']</td><td>0</td></tr><tr><td>cat2</td><td>2</td><td>['A', 'B']</td><td>0</td></tr><tr><td>cat3</td><td>2</td><td>['A', 'B']</td><td>0</td></tr><tr><td>cat4</td><td>2</td><td>['A', 'B']</td><td>0</td></tr><tr><td>cat5</td><td>2</td><td>['A', 'B']</td><td>0</td></tr><tr><td>cat6</td><td>2</td><td>['A', 'B']</td><td>0</td></tr><tr><td>cat7</td><td>2</td><td>['A', 'B']</td><td>0</td></tr><tr><td>cat8</td><td>2</td><td>['A', 'B']</td><td>0</td></tr><tr><td>cat9</td><td>2</td><td>['A', 'B']</td><td>0</td></tr><tr><td>cat10</td><td>2</td><td>['A', 'B']</td><td>0</td></tr><tr><td>cat11</td><td>2</td><td>['A', 'B']</td><td>0</td></tr><tr><td>cat12</td><td>2</td><td>['A', 'B']</td><td>0</td></tr><tr><td>cat13</td><td>2</td><td>['A', 'B']</td><td>0</td></tr><tr><td>cat14</td><td>2</td><td>['A', 'B']</td><td>0</td></tr><tr><td>cat15</td><td>2</td><td>['A', 'B']</td><td>0</td></tr><tr><td>cat16</td><td>2</td><td>['A', 'B']</td><td>0</td></tr><tr><td>cat17</td><td>2</td><td>['A', 'B']</td><td>0</td></tr><tr><td>cat18</td><td>2</td><td>['A', 'B']</td><td>0</td></tr><tr><td>cat19</td><td>2</td><td>['A', 'B']</td><td>0</td></tr><tr><td>cat20</td><td>2</td><td>['A', 'B']</td><td>0</td></tr><tr><td>cat21</td><td>2</td><td>['A', 'B']</td><td>0</td></tr><tr><td>cat22</td><td>2</td><td>['A', 'B']</td><td>0</td></tr><tr><td>cat23</td><td>2</td><td>['A', 'B']</td><td>0</td></tr><tr><td>cat24</td><td>2</td><td>['A', 'B']</td><td>0</td></tr><tr><td>cat25</td><td>2</td><td>['A', 'B']</td><td>0</td></tr><tr><td>cat26</td><td>2</td><td>['A', 'B']</td><td>0</td></tr><tr><td>cat27</td><td>2</td><td>['A', 'B']</td><td>0</td></tr><tr><td>cat28</td><td>2</td><td>['A', 'B']</td><td>0</td></tr><tr><td>cat29</td><td>2</td><td>['A', 'B']</td><td>0</td></tr><tr><td>cat30</td><td>2</td><td>['A', 'B']</td><td>0</td></tr><tr><td>cat31</td><td>2</td><td>['A', 'B']</td><td>0</td></tr><tr><td>cat32</td><td>2</td><td>['A', 'B']</td><td>0</td></tr><tr><td>cat33</td><td>2</td><td>['A', 'B']</td><td>0</td></tr><tr><td>cat34</td><td>2</td><td>['A', 'B']</td><td>0</td></tr><tr><td>cat35</td><td>2</td><td>['A', 'B']</td><td>0</td></tr><tr><td>cat36</td><td>2</td><td>['A', 'B']</td><td>0</td></tr><tr><td>cat37</td><td>2</td><td>['A', 'B']</td><td>0</td></tr><tr><td>cat38</td><td>2</td><td>['A', 'B']</td><td>0</td></tr><tr><td>cat39</td><td>2</td><td>['A', 'B']</td><td>0</td></tr><tr><td>cat40</td><td>2</td><td>['A', 'B']</td><td>0</td></tr><tr><td>cat41</td><td>2</td><td>['A', 'B']</td><td>0</td></tr><tr><td>cat42</td><td>2</td><td>['A', 'B']</td><td>0</td></tr><tr><td>cat43</td><td>2</td><td>['A', 'B']</td><td>0</td></tr><tr><td>cat44</td><td>2</td><td>['A', 'B']</td><td>0</td></tr><tr><td>cat45</td><td>2</td><td>['A', 'B']</td><td>0</td></tr><tr><td>cat46</td><td>2</td><td>['A', 'B']</td><td>0</td></tr><tr><td>cat47</td><td>2</td><td>['A', 'B']</td><td>0</td></tr><tr><td>cat48</td><td>2</td><td>['A', 'B']</td><td>0</td></tr><tr><td>cat49</td><td>2</td><td>['A', 'B']</td><td>0</td></tr><tr><td>cat50</td><td>2</td><td>['A', 'B']</td><td>0</td></tr><tr><td>cat51</td><td>2</td><td>['A', 'B']</td><td>0</td></tr><tr><td>cat52</td><td>2</td><td>['A', 'B']</td><td>0</td></tr><tr><td>cat53</td><td>2</td><td>['A', 'B']</td><td>0</td></tr><tr><td>cat54</td><td>2</td><td>['A', 'B']</td><td>0</td></tr><tr><td>cat55</td><td>2</td><td>['A', 'B']</td><td>0</td></tr><tr><td>cat56</td><td>2</td><td>['A', 'B']</td><td>0</td></tr><tr><td>cat57</td><td>2</td><td>['A', 'B']</td><td>0</td></tr><tr><td>cat58</td><td>2</td><td>['A', 'B']</td><td>0</td></tr><tr><td>cat59</td><td>2</td><td>['A', 'B']</td><td>0</td></tr><tr><td>cat60</td><td>2</td><td>['A', 'B']</td><td>0</td></tr><tr><td>cat61</td><td>2</td><td>['A', 'B']</td><td>0</td></tr><tr><td>cat62</td><td>2</td><td>['A', 'B']</td><td>0</td></tr><tr><td>cat63</td><td>2</td><td>['A', 'B']</td><td>0</td></tr><tr><td>cat64</td><td>2</td><td>['A', 'B']</td><td>0</td></tr><tr><td>cat65</td><td>2</td><td>['A', 'B']</td><td>0</td></tr><tr><td>cat66</td><td>2</td><td>['A', 'B']</td><td>0</td></tr><tr><td>cat67</td><td>2</td><td>['A', 'B']</td><td>0</td></tr><tr><td>cat68</td><td>2</td><td>['A', 'B']</td><td>0</td></tr><tr><td>cat69</td><td>2</td><td>['A', 'B']</td><td>0</td></tr><tr><td>cat70</td><td>2</td><td>['A', 'B']</td><td>0</td></tr><tr><td>cat71</td><td>2</td><td>['A', 'B']</td><td>0</td></tr><tr><td>cat72</td><td>2</td><td>['A', 'B']</td><td>0</td></tr><tr><td>cat73</td><td>3</td><td>['A', 'C', 'B']</td><td>0</td></tr><tr><td>cat74</td><td>3</td><td>['A', 'C', 'B']</td><td>0</td></tr><tr><td>cat75</td><td>3</td><td>['A', 'C', 'B']</td><td>0</td></tr><tr><td>cat76</td><td>3</td><td>['A', 'C', 'B']</td><td>0</td></tr><tr><td>cat77</td><td>4</td><td>['A', 'C', 'B', 'D']</td><td>0</td></tr><tr><td>cat78</td><td>4</td><td>['A', 'C', 'B', 'D']</td><td>0</td></tr><tr><td>cat79</td><td>4</td><td>['A', 'C', 'B', 'D']</td><td>0</td></tr><tr><td>cat80</td><td>4</td><td>['A', 'C', 'B', 'D']</td><td>0</td></tr><tr><td>cat81</td><td>4</td><td>['A', 'C', 'B', 'D']</td><td>0</td></tr><tr><td>cat82</td><td>4</td><td>['A', 'C', 'B', 'D']</td><td>0</td></tr><tr><td>cat83</td><td>4</td><td>['A', 'C', 'B', 'D']</td><td>0</td></tr><tr><td>cat84</td><td>4</td><td>['A', 'C', 'B', 'D']</td><td>0</td></tr><tr><td>cat85</td><td>4</td><td>['A', 'C', 'B', 'D']</td><td>0</td></tr><tr><td>cat86</td><td>4</td><td>['A', 'C', 'B', 'D']</td><td>0</td></tr><tr><td>cat87</td><td>4</td><td>['A', 'C', 'B', 'D']</td><td>0</td></tr><tr><td>cat88</td><td>4</td><td>['A', 'B', 'E', 'D']</td><td>0</td></tr><tr><td>cat89</td><td>8</td><td>['A', 'C', 'B', 'E', 'D', 'G', 'I', 'H']</td><td>0</td></tr><tr><td>cat90</td><td>7</td><td>['A', 'C', 'B', 'E', 'D', 'G', 'F']</td><td>0</td></tr><tr><td>cat91</td><td>8</td><td>['A', 'C', 'B', 'E', 'D', 'G', 'F', 'H']</td><td>0</td></tr><tr><td>cat92</td><td>7</td><td>['A', 'C', 'B', 'D', 'F', 'I', 'H']</td><td>0</td></tr><tr><td>cat93</td><td>5</td><td>['A', 'C', 'B', 'E', 'D']</td><td>0</td></tr><tr><td>cat94</td><td>7</td><td>['A', 'C', 'B', 'E', 'D', 'G', 'F']</td><td>0</td></tr><tr><td>cat95</td><td>5</td><td>['A', 'C', 'B', 'E', 'D']</td><td>0</td></tr><tr><td>cat96</td><td>8</td><td>['A', 'C', 'B', 'E', 'D', 'G', 'F', 'I']</td><td>0</td></tr><tr><td>cat97</td><td>7</td><td>['A', 'C', 'B', 'E', 'D', 'G', 'F']</td><td>0</td></tr><tr><td>cat98</td><td>5</td><td>['A', 'C', 'B', 'E', 'D']</td><td>0</td></tr><tr><td>cat99</td><td>16</td><td>['C', 'E', 'D', 'G', 'F', 'I', 'H', 'K', 'J', 'M', 'O', 'N', 'P', 'S', 'R', 'T']</td><td>0</td></tr><tr><td>cat100</td><td>15</td><td>['A', 'C', 'B', 'E', 'D', 'G', 'F', 'I', 'H', 'K', 'J', 'M', 'L', 'O', 'N']</td><td>0</td></tr><tr><td>cat101</td><td>19</td><td>['A', 'C', 'B', 'E', 'D', 'G', 'F', 'I', 'H', 'K', 'J', 'M', 'L', 'O', 'N', 'Q', 'S', 'R', 'U']</td><td>0</td></tr><tr><td>cat102</td><td>9</td><td>['A', 'C', 'B', 'E', 'D', 'G', 'F', 'H', 'J']</td><td>0</td></tr><tr><td>cat103</td><td>13</td><td>['A', 'C', 'B', 'E', 'D', 'G', 'F', 'I', 'H', 'K', 'J', 'L', 'N']</td><td>0</td></tr><tr><td>cat104</td><td>17</td><td>['A', 'C', 'B', 'E', 'D', 'G', 'F', 'I', 'H', 'K', 'J', 'M', 'L', 'O', 'N', 'Q', 'P']</td><td>0</td></tr><tr><td>cat105</td><td>20</td><td>['A', 'C', 'B', 'E', 'D', 'G', 'F', 'I', 'H', 'K', 'J', 'M', 'L', 'O', 'N', 'Q', 'P', 'S', 'R', 'T']</td><td>0</td></tr><tr><td>cat106</td><td>17</td><td>['A', 'C', 'B', 'E', 'D', 'G', 'F', 'I', 'H', 'K', 'J', 'M', 'L', 'O', 'N', 'P', 'R']</td><td>0</td></tr><tr><td>cat107</td><td>20</td><td>['A', 'C', 'B', 'E', 'D', 'G', 'F', 'I', 'H', 'K', 'J', 'M', 'L', 'O', 'N', 'Q', 'P', 'S', 'R', 'U']</td><td>0</td></tr><tr><td>cat108</td><td>11</td><td>['A', 'C', 'B', 'E', 'D', 'G', 'F', 'I', 'H', 'K', 'J']</td><td>0</td></tr><tr><td>cat109</td><td>84</td><td>['BD', 'BE', 'BF', 'BG', 'BA', 'BB', 'BC', 'BL', 'BM', 'AA', 'BO', 'BH', 'BI', 'BJ', 'BK', 'BT', 'BU', 'BV', 'CH', 'AY', 'BQ', 'BR', 'AX', 'CG', 'E', 'V', 'BX', 'BY', 'L', 'ZZ', 'BN', 'AG', 'CE', 'BS', 'F', 'AM', 'CK', 'CC', 'AI', 'CF', 'AH', 'CA', 'CB', 'A', 'CJ', 'CI', 'AB', 'AE', 'D', 'G', 'CL', 'I', 'H', 'K', 'AJ', 'M', 'AL', 'O', 'CD', 'Q', 'AP', 'S', 'AR', 'U', 'AT', 'AW', 'AV', 'Y', 'X', 'N', 'AF', 'J', 'AQ', 'P', 'C', 'AS', 'AK', 'R', 'AO', 'AU', 'B', 'BP', 'AN', 'T']</td><td>0</td></tr><tr><td>cat110</td><td>131</td><td>['BD', 'BE', 'BF', 'BG', 'BA', 'BB', 'BC', 'BL', 'BM', 'BN', 'BO', 'BI', 'BJ', 'BK', 'BT', 'BU', 'BV', 'BW', 'BP', 'BQ', 'BR', 'BS', 'BX', 'BY', 'D', 'H', 'L', 'P', 'T', 'X', 'A', 'E', 'EK', 'I', 'K', 'EM', 'EL', 'C', 'EI', 'EH', 'G', 'EJ', 'EE', 'ED', 'EG', 'EF', 'EA', 'O', 'EB', 'S', 'W', 'AU', 'Y', 'CK', 'CJ', 'CI', 'CH', 'CO', 'CN', 'CM', 'CL', 'CC', 'CB', 'J', 'CG', 'CF', 'N', 'CY', 'R', 'V', 'CS', 'CR', 'CQ', 'CP', 'CW', 'CV', 'CU', 'CT', 'DN', 'DO', 'DL', 'DM', 'DJ', 'DK', 'DH', 'DI', 'DF', 'DG', 'DD', 'DE', 'DB', 'DC', 'DA', 'B', 'DX', 'DY', 'DV', 'DW', 'DT', 'DU', 'DR', 'DS', 'DP', 'DQ', 'AA', 'AC', 'AB', 'AE', 'AD', 'AG', 'AF', 'AI', 'AH', 'AK', 'AJ', 'AM', 'AL', 'AO', 'AN', 'Q', 'AP', 'AS', 'AR', 'U', 'AT', 'AW', 'AV', 'AY', 'AX', 'CD', 'CX']</td><td>0</td></tr><tr><td>cat111</td><td>16</td><td>['A', 'C', 'B', 'E', 'D', 'G', 'F', 'I', 'K', 'M', 'O', 'Q', 'S', 'U', 'W', 'Y']</td><td>0</td></tr><tr><td>cat112</td><td>51</td><td>['AA', 'BA', 'V', 'M', 'AC', 'AJ', 'AY', 'AB', 'X', 'AE', 'D', 'AG', 'AF', 'W', 'I', 'H', 'AK', 'A', 'C', 'B', 'E', 'AD', 'G', 'F', 'AI', 'AH', 'K', 'J', 'AM', 'L', 'O', 'N', 'AQ', 'AP', 'AS', 'AR', 'U', 'AO', 'AW', 'AV', 'Y', 'AX', 'AN', 'AL', 'Q', 'P', 'S', 'T', 'R', 'AU', 'AT']</td><td>0</td></tr><tr><td>cat113</td><td>61</td><td>['BD', 'BE', 'BF', 'BG', 'BA', 'BB', 'BC', 'BL', 'BM', 'BN', 'BO', 'BH', 'BI', 'BJ', 'BK', 'Y', 'AB', 'X', 'E', 'V', 'G', 'AF', 'AM', 'AI', 'O', 'AH', 'AK', 'A', 'C', 'J', 'AE', 'AD', 'AG', 'F', 'I', 'H', 'K', 'AJ', 'M', 'L', 'AO', 'N', 'Q', 'AP', 'S', 'AR', 'AU', 'AT', 'AW', 'AV', 'AY', 'AX', 'AN', 'AL', 'AQ', 'P', 'AS', 'AC', 'U', 'B', 'T']</td><td>0</td></tr><tr><td>cat114</td><td>19</td><td>['A', 'C', 'B', 'E', 'D', 'G', 'F', 'I', 'J', 'L', 'O', 'N', 'Q', 'S', 'R', 'U', 'W', 'V', 'X']</td><td>0</td></tr><tr><td>cat115</td><td>23</td><td>['A', 'C', 'B', 'E', 'D', 'G', 'F', 'I', 'H', 'K', 'J', 'M', 'L', 'O', 'N', 'Q', 'P', 'S', 'R', 'U', 'T', 'W', 'X']</td><td>0</td></tr><tr><td>cat116</td><td>326</td><td>['BD', 'BF', 'BG', 'JX', 'BA', 'BB', 'BC', 'BL', 'JU', 'CH', 'JW', 'JP', 'BI', 'JR', 'BK', 'JL', 'JM', 'BV', 'BW', 'BP', 'BQ', 'JJ', 'BS', 'JD', 'JE', 'JF', 'JG', 'BX', 'BY', 'JB', 'JC', 'AL', 'JT', 'BM', 'JY', 'JV', 'GW', 'GV', 'GU', 'BO', 'GS', 'GR', 'GQ', 'GP', 'MB', 'H', 'AM', 'L', 'GY', 'GX', 'GG', 'GF', 'GE', 'GD', 'GC', 'GB', 'GA', 'GO', 'GN', 'GM', 'GL', 'GK', 'GJ', 'GI', 'GH', 'BT', 'MH', 'BU', 'JN', 'JO', 'JH', 'JI', 'M', 'HX', 'HY', 'Y', 'HR', 'HP', 'HQ', 'HV', 'HW', 'HT', 'HU', 'HJ', 'HK', 'HH', 'HI', 'HN', 'HO', 'HL', 'HM', 'HB', 'HC', 'HA', 'HF', 'HG', 'HD', 'HE', 'IO', 'G', 'JA', 'I', 'AH', 'AE', 'EG', 'EL', 'EO', 'EN', 'EI', 'EH', 'EK', 'EJ', 'EE', 'ED', 'K', 'EF', 'EA', 'EC', 'EB', 'S', 'EY', 'O', 'W', 'EU', 'EW', 'EV', 'EQ', 'EP', 'ES', 'ME', 'MD', 'MG', 'MF', 'MA', 'MC', 'AP', 'MM', 'ML', 'MO', 'MN', 'MI', 'AS', 'MK', 'MJ', 'MU', 'MT', 'MW', 'IJ', 'MQ', 'MP', 'MS', 'MR', 'IM', 'AU', 'AT', 'FP', 'FQ', 'FR', 'FS', 'FT', 'FU', 'FV', 'FW', 'FX', 'AV', 'FA', 'FB', 'FC', 'FD', 'FE', 'FF', 'FG', 'FH', 'FI', 'FJ', 'FK', 'FL', 'FM', 'FN', 'FO', 'JQ', 'X', 'Q', 'JK', 'IR', 'CK', 'CJ', 'CI', 'B', 'CO', 'CN', 'CM', 'F', 'CC', 'CB', 'CA', 'J', 'CG', 'CF', 'CE', 'CD', 'CY', 'R', 'V', 'CS', 'CR', 'CQ', 'CP', 'CW', 'CV', 'CU', 'CT', 'KC', 'KB', 'KA', 'KG', 'KF', 'KE', 'KD', 'KK', 'KJ', 'KI', 'KH', 'KN', 'KM', 'KL', 'KS', 'KR', 'KQ', 'KP', 'KW', 'KV', 'KU', 'KT', 'KY', 'KX', 'CL', 'DN', 'DO', 'DL', 'DM', 'DJ', 'DK', 'DH', 'DI', 'DF', 'DG', 'DD', 'DE', 'AY', 'DC', 'DA', 'GT', 'DX', 'DY', 'DV', 'DW', 'DT', 'DU', 'DR', 'DS', 'DP', 'D', 'LF', 'LG', 'LD', 'LE', 'LB', 'LC', 'LA', 'LN', 'LO', 'LL', 'LM', 'LJ', 'LK', 'LH', 'LI', 'LV', 'LW', 'LT', 'LU', 'LR', 'IV', 'LQ', 'C', 'DQ', 'AA', 'LX', 'LY', 'IY', 'IX', 'AC', 'AB', 'E', 'AD', 'AG', 'AF', 'IQ', 'IP', 'AK', 'AJ', 'IU', 'IT', 'AO', 'AN', 'II', 'IH', 'IK', 'AR', 'U', 'IL', 'AW', 'IN', 'IA', 'AX', 'IC', 'IB', 'IE', 'ID', 'IG', 'IF', 'MV', 'P', 'CX', 'T']</td><td>0</td></tr></tbody></table>"
      ],
      "text/plain": [
       "<IPython.core.display.HTML object>"
      ]
     },
     "metadata": {},
     "output_type": "display_data"
    },
    {
     "data": {
      "text/html": [
       "<h1>Correlation of Numerical Features</h1>"
      ],
      "text/plain": [
       "<IPython.core.display.HTML object>"
      ]
     },
     "metadata": {},
     "output_type": "display_data"
    },
    {
     "data": {
      "text/html": [
       "<table><thead><tr><th>feature</th><th>highest value</th><th>correlated with</th><th>mean</th></tr></thead><tbody><tr><td>id</td><td>0.00553380418024</td><td>cont8</td><td>0.001943678149</td></tr><tr><td>cont1</td><td>0.929911705762</td><td>cont9</td><td>0.397529079768</td></tr><tr><td>cont2</td><td>0.455860923269</td><td>cont3</td><td>0.100215976099</td></tr><tr><td>cont3</td><td>0.455860923269</td><td>cont2</td><td>0.220548700154</td></tr><tr><td>cont4</td><td>0.528740297217</td><td>cont8</td><td>0.191679356673</td></tr><tr><td>cont5</td><td>0.249343730858</td><td>cont7</td><td>0.0965070937574</td></tr><tr><td>cont6</td><td>0.883350506849</td><td>cont10</td><td>0.448666686983</td></tr><tr><td>cont7</td><td>0.747107916789</td><td>cont11</td><td>0.298528544082</td></tr><tr><td>cont8</td><td>0.528740297217</td><td>cont4</td><td>0.250987325178</td></tr><tr><td>cont9</td><td>0.929911705762</td><td>cont1</td><td>0.412284135654</td></tr><tr><td>cont10</td><td>0.883350506849</td><td>cont6</td><td>0.415557794858</td></tr><tr><td>cont11</td><td>0.994384110022</td><td>cont12</td><td>0.383572927319</td></tr><tr><td>cont12</td><td>0.994384110022</td><td>cont11</td><td>0.387494969414</td></tr><tr><td>cont13</td><td>0.815091076521</td><td>cont6</td><td>0.344357688148</td></tr><tr><td>cont14</td><td>0.0741538144799</td><td>cont9</td><td>0.0382825187469</td></tr><tr><td>loss</td><td>0.141527958879</td><td>cont2</td><td>0.0505960807747</td></tr></tbody></table>"
      ],
      "text/plain": [
       "<IPython.core.display.HTML object>"
      ]
     },
     "metadata": {},
     "output_type": "display_data"
    }
   ],
   "source": [
    "skutils.pretty_stats(train_data)"
   ]
  },
  {
   "cell_type": "code",
   "execution_count": null,
   "metadata": {
    "collapsed": false
   },
   "outputs": [
    {
     "name": "stderr",
     "output_type": "stream",
     "text": [
      "/home/spjain/anaconda2/lib/python2.7/site-packages/matplotlib/pyplot.py:524: RuntimeWarning: More than 20 figures have been opened. Figures created through the pyplot interface (`matplotlib.pyplot.figure`) are retained until explicitly closed and may consume too much memory. (To control this warning, see the rcParam `figure.max_open_warning`).\n",
      "  max_open_warning, RuntimeWarning)\n"
     ]
    }
   ],
   "source": [
    "skutils.feature_hists(train_data, bins=50)"
   ]
  },
  {
   "cell_type": "code",
   "execution_count": null,
   "metadata": {
    "collapsed": true
   },
   "outputs": [],
   "source": []
  }
 ],
 "metadata": {
  "anaconda-cloud": {},
  "kernelspec": {
   "display_name": "Python [conda root]",
   "language": "python",
   "name": "conda-root-py"
  },
  "language_info": {
   "codemirror_mode": {
    "name": "ipython",
    "version": 2
   },
   "file_extension": ".py",
   "mimetype": "text/x-python",
   "name": "python",
   "nbconvert_exporter": "python",
   "pygments_lexer": "ipython2",
   "version": "2.7.12"
  }
 },
 "nbformat": 4,
 "nbformat_minor": 0
}
